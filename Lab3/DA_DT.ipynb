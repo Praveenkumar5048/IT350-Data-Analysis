{
  "nbformat": 4,
  "nbformat_minor": 0,
  "metadata": {
    "colab": {
      "provenance": [],
      "toc_visible": true
    },
    "kernelspec": {
      "name": "python3",
      "display_name": "Python 3"
    },
    "language_info": {
      "name": "python"
    }
  },
  "cells": [
    {
      "cell_type": "code",
      "source": [
        "import pandas as pd\n",
        "import numpy as np\n",
        "import math\n",
        "from collections import Counter"
      ],
      "metadata": {
        "id": "P6quWckvDuOo"
      },
      "execution_count": 1,
      "outputs": []
    },
    {
      "cell_type": "markdown",
      "source": [
        "**Question 1**"
      ],
      "metadata": {
        "id": "j3a8F6DP9Msj"
      }
    },
    {
      "cell_type": "code",
      "execution_count": 3,
      "metadata": {
        "id": "MO5pBMsKDeQ1"
      },
      "outputs": [],
      "source": [
        "# Given data\n",
        "data1 = [\n",
        "    [\"Rainy\", \"Hot\", \"High\", \"False\", \"No\"],\n",
        "    [\"Rainy\", \"Hot\", \"High\", \"True\", \"No\"],\n",
        "    [\"Overcast\", \"Hot\", \"High\", \"False\", \"Yes\"],\n",
        "    [\"Sunny\", \"Mild\", \"High\", \"False\", \"Yes\"],\n",
        "    [\"Sunny\", \"Cool\", \"Normal\", \"False\", \"Yes\"],\n",
        "    [\"Sunny\", \"Cool\", \"Normal\", \"True\", \"No\"],\n",
        "    [\"Overcast\", \"Cool\", \"Normal\", \"True\", \"Yes\"],\n",
        "    [\"Rainy\", \"Mild\", \"High\", \"False\", \"No\"],\n",
        "    [\"Rainy\", \"Cool\", \"Normal\", \"False\", \"Yes\"],\n",
        "    [\"Sunny\", \"Mild\", \"Normal\", \"False\", \"Yes\"],\n",
        "    [\"Rainy\", \"Mild\", \"Normal\", \"True\", \"Yes\"],\n",
        "    [\"Overcast\", \"Mild\", \"High\", \"True\", \"Yes\"],\n",
        "    [\"Overcast\", \"Hot\", \"Normal\", \"False\", \"Yes\"],\n",
        "    [\"Sunny\", \"Mild\", \"High\", \"True\", \"No\"],\n",
        "]\n",
        "\n",
        "# Convert to DataFrame\n",
        "df1 = pd.DataFrame(data1, columns=[\"Outlook\", \"Temp\", \"Humidity\", \"Windy\", \"Play Golf\"])\n",
        "df1[\"Play Golf\"] = df1[\"Play Golf\"].map({\"Yes\": 1, \"No\": 0})"
      ]
    },
    {
      "cell_type": "code",
      "source": [
        "# Calculate the entropy of a dataset\n",
        "def entropy(y):\n",
        "    counts = np.bincount(y)\n",
        "    probabilities = counts / len(y)\n",
        "    return -np.sum([p * np.log2(p) for p in probabilities if p > 0])\n",
        "\n",
        "# Calculate the information gain of a dataset after splitting on a feature\n",
        "def information_gain(X, y, feature):\n",
        "    # Calculate the total entropy\n",
        "    total_entropy = entropy(y)\n",
        "\n",
        "    # Calculate the weighted entropy after splitting\n",
        "    values, counts = np.unique(X[:, feature], return_counts=True)\n",
        "    weighted_entropy = 0\n",
        "    for i, value in enumerate(values):\n",
        "        subset_indices = np.where(X[:, feature] == value)[0]\n",
        "        subset_entropy = entropy(y[subset_indices])\n",
        "        weighted_entropy += (counts[i] / len(X)) * subset_entropy\n",
        "\n",
        "    # Information gain is the difference between total entropy and weighted entropy\n",
        "    return total_entropy - weighted_entropy"
      ],
      "metadata": {
        "id": "JwJMhrqrDzqc"
      },
      "execution_count": 4,
      "outputs": []
    },
    {
      "cell_type": "code",
      "source": [
        "# Find the best feature to split on\n",
        "def best_feature_to_split(X, y):\n",
        "    num_features = X.shape[1]\n",
        "    best_feature = None\n",
        "    best_info_gain = -1\n",
        "\n",
        "    for feature in range(num_features):\n",
        "        info_gain = information_gain(X, y, feature)\n",
        "        if info_gain > best_info_gain:\n",
        "            best_info_gain = info_gain\n",
        "            best_feature = feature\n",
        "\n",
        "    return best_feature\n",
        "\n",
        "# Create a leaf node with the most common class\n",
        "def create_leaf(y):\n",
        "    counter = Counter(y)\n",
        "    return counter.most_common(1)[0][0]\n"
      ],
      "metadata": {
        "id": "SiCSJnrOFunw"
      },
      "execution_count": 5,
      "outputs": []
    },
    {
      "cell_type": "code",
      "source": [
        "# Build the decision tree recursively\n",
        "def build_tree(X, y, depth=0, max_depth=None):\n",
        "    num_samples, num_features = X.shape\n",
        "\n",
        "    # Stopping conditions\n",
        "    if len(np.unique(y)) == 1:\n",
        "        return y[0]\n",
        "    if num_samples == 0:\n",
        "        return create_leaf(y)\n",
        "    if max_depth is not None and depth >= max_depth:\n",
        "        return create_leaf(y)\n",
        "\n",
        "    # Find the best feature to split on\n",
        "    best_feature = best_feature_to_split(X, y)\n",
        "    if best_feature is None:\n",
        "        return create_leaf(y)\n",
        "\n",
        "    # Create the tree structure\n",
        "    tree = {}\n",
        "    tree['feature'] = best_feature\n",
        "    tree['children'] = {}\n",
        "\n",
        "    # Split the dataset and recursively build the tree\n",
        "    values = np.unique(X[:, best_feature])\n",
        "    for value in values:\n",
        "        subset_indices = np.where(X[:, best_feature] == value)[0]\n",
        "        tree['children'][value] = build_tree(X[subset_indices], y[subset_indices], depth + 1, max_depth)\n",
        "\n",
        "    return tree"
      ],
      "metadata": {
        "id": "aq62tvbDF2n6"
      },
      "execution_count": 6,
      "outputs": []
    },
    {
      "cell_type": "code",
      "source": [
        "# Predict the class for a single sample\n",
        "def predict_sample(tree, sample):\n",
        "    if not isinstance(tree, dict):  # Leaf node\n",
        "        return tree\n",
        "\n",
        "    feature = tree['feature']\n",
        "    value = sample[feature]\n",
        "\n",
        "    # If the value is not in the tree's children, return the majority class\n",
        "    if value not in tree['children']:\n",
        "        return None\n",
        "\n",
        "    # Otherwise, traverse the tree\n",
        "    return predict_sample(tree['children'][value], sample)\n",
        "\n",
        "# Predict the class for multiple samples\n",
        "def predict(tree, X):\n",
        "    return [predict_sample(tree, sample) for sample in X]"
      ],
      "metadata": {
        "id": "fi-JlzM6F5Qx"
      },
      "execution_count": 35,
      "outputs": []
    },
    {
      "cell_type": "code",
      "source": [
        "# Convert DataFrame to numpy arrays\n",
        "X1 = df1.drop(\"Play Golf\", axis=1).values\n",
        "y1 = df1[\"Play Golf\"].values\n",
        "\n",
        "# Build the decision tree\n",
        "tree1 = build_tree(X1, y1)"
      ],
      "metadata": {
        "id": "Be5DtxqBrZft"
      },
      "execution_count": 8,
      "outputs": []
    },
    {
      "cell_type": "code",
      "source": [
        "def print_tree(tree, feature_names=None, depth=0):\n",
        "    # If the current node is a leaf, print the class label\n",
        "    if not isinstance(tree, dict):\n",
        "        print(\"  \" * depth + \"Predict:\", tree)\n",
        "        return\n",
        "\n",
        "    # Get the feature name (if feature_names is provided)\n",
        "    feature_index = tree['feature']\n",
        "    feature_name = feature_names[feature_index] if feature_names else f\"Feature {feature_index}\"\n",
        "\n",
        "    # Print the current feature\n",
        "    print(\"  \" * depth + f\"Feature: {feature_name}\")\n",
        "\n",
        "    # Iterate through the children and print the tree recursively\n",
        "    for value, child in tree['children'].items():\n",
        "        print(\"  \" * (depth + 1) + f\"If {feature_name} == {value}:\")\n",
        "        print_tree(child, feature_names, depth + 2)"
      ],
      "metadata": {
        "id": "ZTGuer48ra-d"
      },
      "execution_count": 11,
      "outputs": []
    },
    {
      "cell_type": "code",
      "source": [
        "# Define feature names for better readability\n",
        "feature_names = [\"Outlook\", \"Temp\", \"Humidity\", \"Windy\"]\n",
        "\n",
        "# Print the tree with feature names\n",
        "print_tree(tree1, feature_names)"
      ],
      "metadata": {
        "colab": {
          "base_uri": "https://localhost:8080/"
        },
        "id": "A1_VAgNQghYu",
        "outputId": "a7972082-f4f2-40ee-be73-f5c6e269e5d9"
      },
      "execution_count": 12,
      "outputs": [
        {
          "output_type": "stream",
          "name": "stdout",
          "text": [
            "Feature: Outlook\n",
            "  If Outlook == Overcast:\n",
            "    Predict: 1\n",
            "  If Outlook == Rainy:\n",
            "    Feature: Humidity\n",
            "      If Humidity == High:\n",
            "        Predict: 0\n",
            "      If Humidity == Normal:\n",
            "        Predict: 1\n",
            "  If Outlook == Sunny:\n",
            "    Feature: Windy\n",
            "      If Windy == False:\n",
            "        Predict: 1\n",
            "      If Windy == True:\n",
            "        Predict: 0\n"
          ]
        }
      ]
    },
    {
      "cell_type": "code",
      "source": [
        "# Predict the classes for test data\n",
        "test_data = [[\"Rainy\", \"Cool\", \"High\", \"True\"], [\"Sunny\", \"Mild\", \"Normal\", \"False\"]]\n",
        "predictions = predict(tree1, test_data)\n",
        "print(\"Predictions:\", predictions)\n"
      ],
      "metadata": {
        "id": "k-c748nKrjnc",
        "colab": {
          "base_uri": "https://localhost:8080/"
        },
        "outputId": "f7cd37f4-d038-483e-d350-315b6da5f6d7"
      },
      "execution_count": 21,
      "outputs": [
        {
          "output_type": "stream",
          "name": "stdout",
          "text": [
            "Predictions: [0, 1]\n"
          ]
        }
      ]
    },
    {
      "cell_type": "markdown",
      "source": [
        "**Question 2**"
      ],
      "metadata": {
        "id": "0oyh2Hfm1Bkb"
      }
    },
    {
      "cell_type": "code",
      "source": [
        "data2 = [\n",
        "    [\"Aerospace\", \"Engineering\", \"High\", \"NO\", \"NO\"],\n",
        "    [\"Aerospace\", \"Engineering\", \"High\", \"Yes\", \"NO\"],\n",
        "    [\"Auto\", \"Engineering\", \"High\", \"No\", \"YES\"],\n",
        "    [\"Electronics\", \"Marketing\", \"High\", \"No\", \"YES\"],\n",
        "    [\"Urban\", \"Marketing\", \"Low\", \"No\", \"YES\"],\n",
        "    [\"Urban\", \"Marketing\", \"Low\", \"Yes\", \"NO\"],\n",
        "    [\"Auto\", \"Marketing\", \"Low\", \"Yes\", \"YES\"],\n",
        "    [\"Aerospace\", \"Sales\", \"High\", \"No\", \"NO\"],\n",
        "    [\"Aerospace\", \"Marketing\", \"Low\", \"No\", \"YES\"],\n",
        "    [\"Electronics\", \"Sales\", \"Low\", \"No\", \"NO\"],\n",
        "    [\"Aerospace\", \"Sales\", \"Low\", \"Yes\", \"YES\"],\n",
        "    [\"Electronics\", \"Sales\", \"High\", \"Yes\", \"NO\"],\n",
        "    [\"Auto\", \"Engineering\", \"Low\", \"No\", \"YES\"],\n",
        "    [\"Electronics\", \"Sales\", \"High\", \"Yes\", \"NO\"],\n",
        "]\n",
        "\n",
        "df2 = pd.DataFrame(data2, columns=[\"Industry\", \"JobType\", \"Income\", \"PreviousCustomer\", \"Class\"])\n",
        "df2[\"Class\"] = df2[\"Class\"].map({\"YES\": 1, \"NO\": 0})\n",
        "\n"
      ],
      "metadata": {
        "id": "08URsT2Y1A-i"
      },
      "execution_count": 14,
      "outputs": []
    },
    {
      "cell_type": "code",
      "source": [
        "# Convert DataFrame to numpy arrays\n",
        "X2 = df2.drop(\"Class\", axis=1).values\n",
        "y2 = df2[\"Class\"].values\n",
        "\n",
        "# Build the decision tree\n",
        "tree2 = build_tree(X2, y2)"
      ],
      "metadata": {
        "id": "Wum9MWHKhgOl"
      },
      "execution_count": 15,
      "outputs": []
    },
    {
      "cell_type": "code",
      "source": [
        "# Define feature names for better readability\n",
        "feature_names = [\"Industry\", \"JobType\", \"Income\", \"PreviousCustomer\"]\n",
        "\n",
        "# Print the tree with feature names\n",
        "print_tree(tree2, feature_names)"
      ],
      "metadata": {
        "colab": {
          "base_uri": "https://localhost:8080/"
        },
        "id": "yx2xGP-S8mDM",
        "outputId": "248fbb82-1357-4c5c-b18a-f94e2df5898b"
      },
      "execution_count": 16,
      "outputs": [
        {
          "output_type": "stream",
          "name": "stdout",
          "text": [
            "Feature: Industry\n",
            "  If Industry == Aerospace:\n",
            "    Feature: Income\n",
            "      If Income == High:\n",
            "        Predict: 0\n",
            "      If Income == Low:\n",
            "        Predict: 1\n",
            "  If Industry == Auto:\n",
            "    Predict: 1\n",
            "  If Industry == Electronics:\n",
            "    Feature: JobType\n",
            "      If JobType == Marketing:\n",
            "        Predict: 1\n",
            "      If JobType == Sales:\n",
            "        Predict: 0\n",
            "  If Industry == Urban:\n",
            "    Feature: PreviousCustomer\n",
            "      If PreviousCustomer == No:\n",
            "        Predict: 1\n",
            "      If PreviousCustomer == Yes:\n",
            "        Predict: 0\n"
          ]
        }
      ]
    },
    {
      "cell_type": "code",
      "source": [
        "# Predict the classes for the test data\n",
        "test_data = [[\"Urban\", \"Sales\", \"Low\", \"Yes\" ], [\"Electronics\", \"Engineering\", \"High\", \"No\"]]\n",
        "predictions = predict(tree2, test_data)\n",
        "print(\"Predictions:\", predictions)"
      ],
      "metadata": {
        "colab": {
          "base_uri": "https://localhost:8080/"
        },
        "id": "xVo6SvcX8_Dh",
        "outputId": "542450d7-fe63-4bc2-8ee6-fb723753ec28"
      },
      "execution_count": 36,
      "outputs": [
        {
          "output_type": "stream",
          "name": "stdout",
          "text": [
            "Predictions: [0, None]\n"
          ]
        }
      ]
    },
    {
      "cell_type": "code",
      "source": [],
      "metadata": {
        "id": "YN1Qp6Sg_Xut"
      },
      "execution_count": null,
      "outputs": []
    }
  ]
}